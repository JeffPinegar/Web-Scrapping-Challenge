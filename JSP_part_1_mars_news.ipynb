{
 "cells": [
  {
   "attachments": {},
   "cell_type": "markdown",
   "metadata": {},
   "source": [
    "<h1>Jeff Pinegar</h1>\n",
    "Due Dec. 23, 2022\n",
    "\n",
    "### Module 12 Challenge <br>\n",
    "Deliverable 1: Scrape Titles and Preview Text from Mars News<br>\n",
    "\n",
    "---"
   ]
  },
  {
   "cell_type": "code",
   "execution_count": 40,
   "metadata": {},
   "outputs": [],
   "source": [
    "# Import Splinter and BeautifulSoup\n",
    "from splinter import Browser\n",
    "from bs4 import BeautifulSoup as soup\n",
    "from webdriver_manager.chrome import ChromeDriverManager\n",
    "import os\n",
    "import json"
   ]
  },
  {
   "cell_type": "code",
   "execution_count": 41,
   "metadata": {
    "scrolled": true
   },
   "outputs": [],
   "source": [
    "executable_path = {'executable_path': ChromeDriverManager().install()}\n",
    "browser = Browser('chrome', **executable_path, headless=False)"
   ]
  },
  {
   "cell_type": "markdown",
   "metadata": {},
   "source": [
    "### Step 1: Visit the Website\n",
    "\n",
    "1. Use automated browsing to visit the [Mars NASA news site](https://redplanetscience.com). Inspect the page to identify which elements to scrape.\n",
    "\n",
    "      > **Hint** To identify which elements to scrape, you might want to inspect the page by using Chrome DevTools."
   ]
  },
  {
   "cell_type": "code",
   "execution_count": 42,
   "metadata": {},
   "outputs": [],
   "source": [
    "# Visit the Mars NASA news site: https://redplanetscience.com\n",
    "url = 'https://redplanetscience.com'\n",
    "browser.visit(url)"
   ]
  },
  {
   "cell_type": "markdown",
   "metadata": {},
   "source": [
    "### Step 2: Scrape the Website\n",
    "\n",
    "Create a Beautiful Soup object and use it to extract text elements from the website."
   ]
  },
  {
   "cell_type": "code",
   "execution_count": 43,
   "metadata": {},
   "outputs": [],
   "source": [
    "# Create a Beautiful Soup object\n",
    "\n",
    "# This will open the url in the browser.  We must do it this way because the data we are looking for is not it the HTML if look at it outside of a browser.\n",
    "# The data is loaded with the webpage by a java script.  So if we just did a \"requests.get(url)\" the data we are after would not be there.  We must \n",
    "# load a browser and scrape/pars that.\n",
    "\n",
    "html = browser.html\n",
    "soup = soup(html, 'html.parser')"
   ]
  },
  {
   "cell_type": "markdown",
   "metadata": {},
   "source": [
    "### Step 3: Store the Results\n",
    "\n",
    "Extract the titles and preview text of the news articles that you scraped. Store the scraping results in Python data structures as follows:\n",
    "\n",
    "* Store each title-and-preview pair in a Python dictionary. And, give each dictionary two keys: `title` and `preview`. An example is the following:\n",
    "\n",
    "  ```python\n",
    "  {'title': \"Mars Rover Begins Mission!\", \n",
    "        'preview': \"NASA's Mars Rover begins a multiyear mission to collect data about the little-explored planet.\"}\n",
    "  ```\n",
    "\n",
    "* Store all the dictionaries in a Python list.\n",
    "\n",
    "* Print the list in your notebook."
   ]
  },
  {
   "cell_type": "code",
   "execution_count": 44,
   "metadata": {},
   "outputs": [
    {
     "name": "stdout",
     "output_type": "stream",
     "text": [
      "-------------\n",
      "Space History Is Made in This NASA Robot Factory\n",
      "-------------\n",
      "NASA's Mars 2020 Heads Into the Test Chamber\n",
      "-------------\n",
      "NASA's Mars 2020 Will Hunt for Microscopic Fossils\n",
      "-------------\n",
      "Sensors on Mars 2020 Spacecraft Answer Long-Distance Call From Earth\n",
      "-------------\n",
      "7 Things to Know About the Mars 2020 Perseverance Rover Mission\n",
      "-------------\n",
      "With Mars Methane Mystery Unsolved, Curiosity Serves Scientists a New One: Oxygen\n",
      "-------------\n",
      "Mars Is Getting a New Robotic Meteorologist\n",
      "-------------\n",
      "Scientists Explore Outback as Testbed for Mars \n",
      "-------------\n",
      "NASA Readies Perseverance Mars Rover's Earthly Twin \n",
      "-------------\n",
      "NASA's Perseverance Rover Will Carry First Spacesuit Materials to Mars\n",
      "-------------\n",
      "Meet the People Behind NASA's Perseverance Rover\n",
      "-------------\n",
      "NASA Adds Return Sample Scientists to Mars 2020 Leadership Team\n",
      "-------------\n",
      "NASA's Mars 2020 Rover Completes Its First Drive\n",
      "-------------\n",
      "NASA InSight's 'Mole' Is Out of Sight\n",
      "-------------\n",
      "Air Deliveries Bring NASA's Perseverance Mars Rover Closer to Launch\n"
     ]
    }
   ],
   "source": [
    "# get news story titles\n",
    "\n",
    "store_nasa_news_titles = []\n",
    "\n",
    "# Getting the titles\n",
    "# This is what I am looking for <div class=\"content_title\">\n",
    "nasa_news_titles = soup.find_all('div', class_='content_title')\n",
    "\n",
    "for title in nasa_news_titles:\n",
    "         print('-------------')\n",
    "         print(title.text)\n",
    "         store_nasa_news_titles.append(title.text)\n",
    "        "
   ]
  },
  {
   "cell_type": "code",
   "execution_count": 45,
   "metadata": {},
   "outputs": [
    {
     "name": "stdout",
     "output_type": "stream",
     "text": [
      "-------------\n",
      "From rockets to rovers, JPL's Spacecraft Assembly Facility has been at the center of robotic spaceflight. Here's a closer look at what makes it so special.\n",
      "-------------\n",
      "In this time-lapse video taken at JPL, engineers move the Mars 2020 rover into a large vacuum chamber for testing in Mars-like environmental conditions.\n",
      "-------------\n",
      "A new paper identifies a ring of minerals at the rover's landing site that are ideal for fossilizing microbial life.\n",
      "-------------\n",
      "Instruments tailored to collect data during the descent of NASA's next rover through the Red Planet's atmosphere have been checked in flight.\n",
      "-------------\n",
      "NASA's next rover to the Red Planet is slated to launch no earlier than July 30. These highlights will get you up to speed on the ambitious mission.\n",
      "-------------\n",
      "For the first time in the history of space exploration, scientists have measured the seasonal changes in the gases that fill the air directly above the surface of Gale Crater on Mars. \n",
      "-------------\n",
      "Sensors on NASA's Perseverance will help prepare for future human exploration by taking weather measurements and studying dust particles.\n",
      "-------------\n",
      "Australia provides a great place for NASA's Mars 2020 and the ESA-Roscosmos ExoMars scientists to hone techniques in preparation for searching for signs ancient life on Mars.\n",
      "-------------\n",
      "Did you know NASA's next Mars rover has a nearly identical sibling on Earth for testing? Even better, it's about to roll for the first time through a replica Martian landscape.\n",
      "-------------\n",
      "In a Q&A, spacesuit designer Amy Ross explains how five samples, including a piece of helmet visor, will be tested aboard the rover, which is targeting a July 30 launch. \n",
      "-------------\n",
      "These are the scientists and engineers who built NASA's next Mars rover and who will guide it to a safe landing in Jezero Crater. \n",
      "-------------\n",
      "The leadership council for Mars 2020 science added two new members who represent the interests of scientists destined to handle and study the first samples from Red Planet.\n",
      "-------------\n",
      "In a 10-plus-hour marathon, the rover steered, turned and drove in 3-foot (1-meter) increments over small ramps.\n",
      "-------------\n",
      "Now that the heat probe is just below the Martian surface, InSight's arm will scoop some additional soil on top to help it keep digging so it can take Mars' temperature.\n",
      "-------------\n",
      "A NASA Wallops Flight Facility cargo plane transported more than two tons of equipment — including the rover's sample collection tubes — to Florida for this summer's liftoff.\n"
     ]
    }
   ],
   "source": [
    "# get news story previes\n",
    "\n",
    "store_nasa_news_previews = []\n",
    "\n",
    "# Getting the article preview.\n",
    "# it is stored with the following tag. <div class=\"article_teaser_body\">\n",
    "nasa_news_previews = soup.find_all('div', class_='article_teaser_body')\n",
    "\n",
    "for preview in nasa_news_previews:\n",
    "        print('-------------')\n",
    "        print(preview.text)\n",
    "        store_nasa_news_previews.append(preview.text)"
   ]
  },
  {
   "cell_type": "code",
   "execution_count": 46,
   "metadata": {},
   "outputs": [],
   "source": [
    "# get news story dates\n",
    "\n",
    "store_nasa_news_dates = []\n",
    "\n",
    "# Getting the article dates.\n",
    "# it is stored with the following tag. <div class=\"list_date\">\n",
    "nasa_news_dates = soup.find_all('div', class_='list_date')\n",
    "\n",
    "for date in nasa_news_dates:\n",
    "        store_nasa_news_dates.append(date.text)"
   ]
  },
  {
   "cell_type": "code",
   "execution_count": 47,
   "metadata": {},
   "outputs": [],
   "source": [
    "# Create an empty list to store the dictionaries\n",
    "list_of_dic = []"
   ]
  },
  {
   "cell_type": "code",
   "execution_count": 48,
   "metadata": {},
   "outputs": [],
   "source": [
    "# Loop through the text elements\n",
    "# Extract the title and preview text from the elements\n",
    "# Store each title and preview pair in a dictionary\n",
    "# Add the dictionary to the list\n",
    "num_of_stories = len(store_nasa_news_titles)\n",
    "for i in range (num_of_stories):\n",
    "      list_of_dic.append({'title':store_nasa_news_titles[i] , 'preview' : store_nasa_news_previews[i], 'date':store_nasa_news_dates[i]})"
   ]
  },
  {
   "cell_type": "code",
   "execution_count": 49,
   "metadata": {},
   "outputs": [
    {
     "data": {
      "text/plain": [
       "[{'title': 'Space History Is Made in This NASA Robot Factory',\n",
       "  'preview': \"From rockets to rovers, JPL's Spacecraft Assembly Facility has been at the center of robotic spaceflight. Here's a closer look at what makes it so special.\",\n",
       "  'date': 'December 21, 2022'},\n",
       " {'title': \"NASA's Mars 2020 Heads Into the Test Chamber\",\n",
       "  'preview': 'In this time-lapse video taken at JPL, engineers move the Mars 2020 rover into a large vacuum chamber for testing in Mars-like environmental conditions.',\n",
       "  'date': 'December 20, 2022'},\n",
       " {'title': \"NASA's Mars 2020 Will Hunt for Microscopic Fossils\",\n",
       "  'preview': \"A new paper identifies a ring of minerals at the rover's landing site that are ideal for fossilizing microbial life.\",\n",
       "  'date': 'December 20, 2022'},\n",
       " {'title': 'Sensors on Mars 2020 Spacecraft Answer Long-Distance Call From Earth',\n",
       "  'preview': \"Instruments tailored to collect data during the descent of NASA's next rover through the Red Planet's atmosphere have been checked in flight.\",\n",
       "  'date': 'December 10, 2022'},\n",
       " {'title': '7 Things to Know About the Mars 2020 Perseverance Rover Mission',\n",
       "  'preview': \"NASA's next rover to the Red Planet is slated to launch no earlier than July 30. These highlights will get you up to speed on the ambitious mission.\",\n",
       "  'date': 'December 8, 2022'},\n",
       " {'title': 'With Mars Methane Mystery Unsolved, Curiosity Serves Scientists a New One: Oxygen',\n",
       "  'preview': 'For the first time in the history of space exploration, scientists have measured the seasonal changes in the gases that fill the air directly above the surface of Gale Crater on Mars. ',\n",
       "  'date': 'December 7, 2022'},\n",
       " {'title': 'Mars Is Getting a New Robotic Meteorologist',\n",
       "  'preview': \"Sensors on NASA's Perseverance will help prepare for future human exploration by taking weather measurements and studying dust particles.\",\n",
       "  'date': 'December 6, 2022'},\n",
       " {'title': 'Scientists Explore Outback as Testbed for Mars ',\n",
       "  'preview': \"Australia provides a great place for NASA's Mars 2020 and the ESA-Roscosmos ExoMars scientists to hone techniques in preparation for searching for signs ancient life on Mars.\",\n",
       "  'date': 'December 5, 2022'},\n",
       " {'title': \"NASA Readies Perseverance Mars Rover's Earthly Twin \",\n",
       "  'preview': \"Did you know NASA's next Mars rover has a nearly identical sibling on Earth for testing? Even better, it's about to roll for the first time through a replica Martian landscape.\",\n",
       "  'date': 'December 2, 2022'},\n",
       " {'title': \"NASA's Perseverance Rover Will Carry First Spacesuit Materials to Mars\",\n",
       "  'preview': 'In a Q&A, spacesuit designer Amy Ross explains how five samples, including a piece of helmet visor, will be tested aboard the rover, which is targeting a July 30 launch. ',\n",
       "  'date': 'November 30, 2022'},\n",
       " {'title': \"Meet the People Behind NASA's Perseverance Rover\",\n",
       "  'preview': \"These are the scientists and engineers who built NASA's next Mars rover and who will guide it to a safe landing in Jezero Crater. \",\n",
       "  'date': 'November 29, 2022'},\n",
       " {'title': 'NASA Adds Return Sample Scientists to Mars 2020 Leadership Team',\n",
       "  'preview': 'The leadership council for Mars 2020 science added two new members who represent the interests of scientists destined to handle and study the first samples from Red Planet.',\n",
       "  'date': 'November 27, 2022'},\n",
       " {'title': \"NASA's Mars 2020 Rover Completes Its First Drive\",\n",
       "  'preview': 'In a 10-plus-hour marathon, the rover steered, turned and drove in 3-foot (1-meter) increments over small ramps.',\n",
       "  'date': 'November 27, 2022'},\n",
       " {'title': \"NASA InSight's 'Mole' Is Out of Sight\",\n",
       "  'preview': \"Now that the heat probe is just below the Martian surface, InSight's arm will scoop some additional soil on top to help it keep digging so it can take Mars' temperature.\",\n",
       "  'date': 'November 24, 2022'},\n",
       " {'title': \"Air Deliveries Bring NASA's Perseverance Mars Rover Closer to Launch\",\n",
       "  'preview': \"A NASA Wallops Flight Facility cargo plane transported more than two tons of equipment — including the rover's sample collection tubes — to Florida for this summer's liftoff.\",\n",
       "  'date': 'November 21, 2022'}]"
      ]
     },
     "execution_count": 49,
     "metadata": {},
     "output_type": "execute_result"
    }
   ],
   "source": [
    "# Print the list to confirm success\n",
    "list_of_dic"
   ]
  },
  {
   "cell_type": "code",
   "execution_count": 50,
   "metadata": {},
   "outputs": [],
   "source": [
    "browser.quit()"
   ]
  },
  {
   "cell_type": "markdown",
   "metadata": {},
   "source": [
    "### (Optional) Step 4: Export the Data\n",
    "\n",
    "Optionally, store the scraped data in a file or database (to ease sharing the data with others). To do so, export the scraped data to either a JSON file or a MongoDB database."
   ]
  },
  {
   "cell_type": "code",
   "execution_count": 51,
   "metadata": {},
   "outputs": [
    {
     "name": "stdout",
     "output_type": "stream",
     "text": [
      "[\n",
      "    {\n",
      "        \"title\": \"Space History Is Made in This NASA Robot Factory\",\n",
      "        \"preview\": \"From rockets to rovers, JPL's Spacecraft Assembly Facility has been at the center of robotic spaceflight. Here's a closer look at what makes it so special.\",\n",
      "        \"date\": \"December 21, 2022\"\n",
      "    },\n",
      "    {\n",
      "        \"title\": \"NASA's Mars 2020 Heads Into the Test Chamber\",\n",
      "        \"preview\": \"In this time-lapse video taken at JPL, engineers move the Mars 2020 rover into a large vacuum chamber for testing in Mars-like environmental conditions.\",\n",
      "        \"date\": \"December 20, 2022\"\n",
      "    },\n",
      "    {\n",
      "        \"title\": \"NASA's Mars 2020 Will Hunt for Microscopic Fossils\",\n",
      "        \"preview\": \"A new paper identifies a ring of minerals at the rover's landing site that are ideal for fossilizing microbial life.\",\n",
      "        \"date\": \"December 20, 2022\"\n",
      "    },\n",
      "    {\n",
      "        \"title\": \"Sensors on Mars 2020 Spacecraft Answer Long-Distance Call From Earth\",\n",
      "        \"preview\": \"Instruments tailored to collect data during the descent of NASA's next rover through the Red Planet's atmosphere have been checked in flight.\",\n",
      "        \"date\": \"December 10, 2022\"\n",
      "    },\n",
      "    {\n",
      "        \"title\": \"7 Things to Know About the Mars 2020 Perseverance Rover Mission\",\n",
      "        \"preview\": \"NASA's next rover to the Red Planet is slated to launch no earlier than July 30. These highlights will get you up to speed on the ambitious mission.\",\n",
      "        \"date\": \"December 8, 2022\"\n",
      "    },\n",
      "    {\n",
      "        \"title\": \"With Mars Methane Mystery Unsolved, Curiosity Serves Scientists a New One: Oxygen\",\n",
      "        \"preview\": \"For the first time in the history of space exploration, scientists have measured the seasonal changes in the gases that fill the air directly above the surface of Gale Crater on Mars. \",\n",
      "        \"date\": \"December 7, 2022\"\n",
      "    },\n",
      "    {\n",
      "        \"title\": \"Mars Is Getting a New Robotic Meteorologist\",\n",
      "        \"preview\": \"Sensors on NASA's Perseverance will help prepare for future human exploration by taking weather measurements and studying dust particles.\",\n",
      "        \"date\": \"December 6, 2022\"\n",
      "    },\n",
      "    {\n",
      "        \"title\": \"Scientists Explore Outback as Testbed for Mars \",\n",
      "        \"preview\": \"Australia provides a great place for NASA's Mars 2020 and the ESA-Roscosmos ExoMars scientists to hone techniques in preparation for searching for signs ancient life on Mars.\",\n",
      "        \"date\": \"December 5, 2022\"\n",
      "    },\n",
      "    {\n",
      "        \"title\": \"NASA Readies Perseverance Mars Rover's Earthly Twin \",\n",
      "        \"preview\": \"Did you know NASA's next Mars rover has a nearly identical sibling on Earth for testing? Even better, it's about to roll for the first time through a replica Martian landscape.\",\n",
      "        \"date\": \"December 2, 2022\"\n",
      "    },\n",
      "    {\n",
      "        \"title\": \"NASA's Perseverance Rover Will Carry First Spacesuit Materials to Mars\",\n",
      "        \"preview\": \"In a Q&A, spacesuit designer Amy Ross explains how five samples, including a piece of helmet visor, will be tested aboard the rover, which is targeting a July 30 launch. \",\n",
      "        \"date\": \"November 30, 2022\"\n",
      "    },\n",
      "    {\n",
      "        \"title\": \"Meet the People Behind NASA's Perseverance Rover\",\n",
      "        \"preview\": \"These are the scientists and engineers who built NASA's next Mars rover and who will guide it to a safe landing in Jezero Crater. \",\n",
      "        \"date\": \"November 29, 2022\"\n",
      "    },\n",
      "    {\n",
      "        \"title\": \"NASA Adds Return Sample Scientists to Mars 2020 Leadership Team\",\n",
      "        \"preview\": \"The leadership council for Mars 2020 science added two new members who represent the interests of scientists destined to handle and study the first samples from Red Planet.\",\n",
      "        \"date\": \"November 27, 2022\"\n",
      "    },\n",
      "    {\n",
      "        \"title\": \"NASA's Mars 2020 Rover Completes Its First Drive\",\n",
      "        \"preview\": \"In a 10-plus-hour marathon, the rover steered, turned and drove in 3-foot (1-meter) increments over small ramps.\",\n",
      "        \"date\": \"November 27, 2022\"\n",
      "    },\n",
      "    {\n",
      "        \"title\": \"NASA InSight's 'Mole' Is Out of Sight\",\n",
      "        \"preview\": \"Now that the heat probe is just below the Martian surface, InSight's arm will scoop some additional soil on top to help it keep digging so it can take Mars' temperature.\",\n",
      "        \"date\": \"November 24, 2022\"\n",
      "    },\n",
      "    {\n",
      "        \"title\": \"Air Deliveries Bring NASA's Perseverance Mars Rover Closer to Launch\",\n",
      "        \"preview\": \"A NASA Wallops Flight Facility cargo plane transported more than two tons of equipment \\u2014 including the rover's sample collection tubes \\u2014 to Florida for this summer's liftoff.\",\n",
      "        \"date\": \"November 21, 2022\"\n",
      "    }\n",
      "]\n"
     ]
    }
   ],
   "source": [
    "# Export data to JSON\n",
    "nasa_news_json = json.dumps(list_of_dic, indent = 4)\n",
    "\n",
    "#set the path for saving the json\n",
    "file = os.path.join('.','Output', 'nasa_news.json')\n",
    "\n",
    "# Writing to sample.json\n",
    "with open(file, \"w\") as outfile:\n",
    "    outfile.write(nasa_news_json)\n",
    "\n",
    "#print the json\n",
    "print(nasa_news_json)"
   ]
  },
  {
   "cell_type": "code",
   "execution_count": 52,
   "metadata": {},
   "outputs": [
    {
     "data": {
      "text/plain": [
       "<pymongo.results.InsertManyResult at 0x1aa6a510d60>"
      ]
     },
     "execution_count": 52,
     "metadata": {},
     "output_type": "execute_result"
    }
   ],
   "source": [
    "# Export data to MongoDB\n",
    "import pymongo\n",
    "\n",
    "conn = 'mongodb://localhost:27017/'\n",
    "client = pymongo.MongoClient(conn)\n",
    "\n",
    "db = client.nasa_news_db\n",
    "\n",
    "db.news_stories.drop()\n",
    "\n",
    "db.news_stories.insert_many(list_of_dic)"
   ]
  },
  {
   "cell_type": "code",
   "execution_count": 53,
   "metadata": {},
   "outputs": [
    {
     "name": "stdout",
     "output_type": "stream",
     "text": [
      "{'_id': ObjectId('63a3568ccaded8e3de5ec747'), 'title': 'Space History Is Made in This NASA Robot Factory', 'preview': \"From rockets to rovers, JPL's Spacecraft Assembly Facility has been at the center of robotic spaceflight. Here's a closer look at what makes it so special.\", 'date': 'December 21, 2022'}\n",
      "{'_id': ObjectId('63a3568ccaded8e3de5ec748'), 'title': \"NASA's Mars 2020 Heads Into the Test Chamber\", 'preview': 'In this time-lapse video taken at JPL, engineers move the Mars 2020 rover into a large vacuum chamber for testing in Mars-like environmental conditions.', 'date': 'December 20, 2022'}\n",
      "{'_id': ObjectId('63a3568ccaded8e3de5ec749'), 'title': \"NASA's Mars 2020 Will Hunt for Microscopic Fossils\", 'preview': \"A new paper identifies a ring of minerals at the rover's landing site that are ideal for fossilizing microbial life.\", 'date': 'December 20, 2022'}\n",
      "{'_id': ObjectId('63a3568ccaded8e3de5ec74a'), 'title': 'Sensors on Mars 2020 Spacecraft Answer Long-Distance Call From Earth', 'preview': \"Instruments tailored to collect data during the descent of NASA's next rover through the Red Planet's atmosphere have been checked in flight.\", 'date': 'December 10, 2022'}\n",
      "{'_id': ObjectId('63a3568ccaded8e3de5ec74b'), 'title': '7 Things to Know About the Mars 2020 Perseverance Rover Mission', 'preview': \"NASA's next rover to the Red Planet is slated to launch no earlier than July 30. These highlights will get you up to speed on the ambitious mission.\", 'date': 'December 8, 2022'}\n",
      "{'_id': ObjectId('63a3568ccaded8e3de5ec74c'), 'title': 'With Mars Methane Mystery Unsolved, Curiosity Serves Scientists a New One: Oxygen', 'preview': 'For the first time in the history of space exploration, scientists have measured the seasonal changes in the gases that fill the air directly above the surface of Gale Crater on Mars. ', 'date': 'December 7, 2022'}\n",
      "{'_id': ObjectId('63a3568ccaded8e3de5ec74d'), 'title': 'Mars Is Getting a New Robotic Meteorologist', 'preview': \"Sensors on NASA's Perseverance will help prepare for future human exploration by taking weather measurements and studying dust particles.\", 'date': 'December 6, 2022'}\n",
      "{'_id': ObjectId('63a3568ccaded8e3de5ec74e'), 'title': 'Scientists Explore Outback as Testbed for Mars ', 'preview': \"Australia provides a great place for NASA's Mars 2020 and the ESA-Roscosmos ExoMars scientists to hone techniques in preparation for searching for signs ancient life on Mars.\", 'date': 'December 5, 2022'}\n",
      "{'_id': ObjectId('63a3568ccaded8e3de5ec74f'), 'title': \"NASA Readies Perseverance Mars Rover's Earthly Twin \", 'preview': \"Did you know NASA's next Mars rover has a nearly identical sibling on Earth for testing? Even better, it's about to roll for the first time through a replica Martian landscape.\", 'date': 'December 2, 2022'}\n",
      "{'_id': ObjectId('63a3568ccaded8e3de5ec750'), 'title': \"NASA's Perseverance Rover Will Carry First Spacesuit Materials to Mars\", 'preview': 'In a Q&A, spacesuit designer Amy Ross explains how five samples, including a piece of helmet visor, will be tested aboard the rover, which is targeting a July 30 launch. ', 'date': 'November 30, 2022'}\n",
      "{'_id': ObjectId('63a3568ccaded8e3de5ec751'), 'title': \"Meet the People Behind NASA's Perseverance Rover\", 'preview': \"These are the scientists and engineers who built NASA's next Mars rover and who will guide it to a safe landing in Jezero Crater. \", 'date': 'November 29, 2022'}\n",
      "{'_id': ObjectId('63a3568ccaded8e3de5ec752'), 'title': 'NASA Adds Return Sample Scientists to Mars 2020 Leadership Team', 'preview': 'The leadership council for Mars 2020 science added two new members who represent the interests of scientists destined to handle and study the first samples from Red Planet.', 'date': 'November 27, 2022'}\n",
      "{'_id': ObjectId('63a3568ccaded8e3de5ec753'), 'title': \"NASA's Mars 2020 Rover Completes Its First Drive\", 'preview': 'In a 10-plus-hour marathon, the rover steered, turned and drove in 3-foot (1-meter) increments over small ramps.', 'date': 'November 27, 2022'}\n",
      "{'_id': ObjectId('63a3568ccaded8e3de5ec754'), 'title': \"NASA InSight's 'Mole' Is Out of Sight\", 'preview': \"Now that the heat probe is just below the Martian surface, InSight's arm will scoop some additional soil on top to help it keep digging so it can take Mars' temperature.\", 'date': 'November 24, 2022'}\n",
      "{'_id': ObjectId('63a3568ccaded8e3de5ec755'), 'title': \"Air Deliveries Bring NASA's Perseverance Mars Rover Closer to Launch\", 'preview': \"A NASA Wallops Flight Facility cargo plane transported more than two tons of equipment — including the rover's sample collection tubes — to Florida for this summer's liftoff.\", 'date': 'November 21, 2022'}\n"
     ]
    }
   ],
   "source": [
    "cursor = db.news_stories\n",
    "\n",
    "for doc in cursor.find():\n",
    "      print(doc)"
   ]
  },
  {
   "cell_type": "code",
   "execution_count": null,
   "metadata": {},
   "outputs": [],
   "source": []
  }
 ],
 "metadata": {
  "kernelspec": {
   "display_name": "base",
   "language": "python",
   "name": "python3"
  },
  "language_info": {
   "codemirror_mode": {
    "name": "ipython",
    "version": 3
   },
   "file_extension": ".py",
   "mimetype": "text/x-python",
   "name": "python",
   "nbconvert_exporter": "python",
   "pygments_lexer": "ipython3",
   "version": "3.9.13 | packaged by conda-forge | (main, May 27 2022, 16:51:29) [MSC v.1929 64 bit (AMD64)]"
  },
  "vscode": {
   "interpreter": {
    "hash": "e7f336f9bec1e74624fa1ea8a759f275624ff514e02e1aa8e3e0a6d78d32a22a"
   }
  }
 },
 "nbformat": 4,
 "nbformat_minor": 4
}

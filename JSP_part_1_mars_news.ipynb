{
 "cells": [
  {
   "cell_type": "markdown",
   "metadata": {},
   "source": [
    "# Module 12 Challenge\n",
    "## Deliverable 1: Scrape Titles and Preview Text from Mars News"
   ]
  },
  {
   "cell_type": "code",
   "execution_count": 1,
   "metadata": {},
   "outputs": [],
   "source": [
    "# Import Splinter and BeautifulSoup\n",
    "from splinter import Browser\n",
    "from bs4 import BeautifulSoup as soup\n",
    "from webdriver_manager.chrome import ChromeDriverManager\n",
    "import os\n",
    "import json"
   ]
  },
  {
   "cell_type": "code",
   "execution_count": 2,
   "metadata": {
    "scrolled": true
   },
   "outputs": [],
   "source": [
    "executable_path = {'executable_path': ChromeDriverManager().install()}\n",
    "browser = Browser('chrome', **executable_path, headless=False)"
   ]
  },
  {
   "cell_type": "markdown",
   "metadata": {},
   "source": [
    "### Step 1: Visit the Website\n",
    "\n",
    "1. Use automated browsing to visit the [Mars NASA news site](https://redplanetscience.com). Inspect the page to identify which elements to scrape.\n",
    "\n",
    "      > **Hint** To identify which elements to scrape, you might want to inspect the page by using Chrome DevTools."
   ]
  },
  {
   "cell_type": "code",
   "execution_count": 3,
   "metadata": {},
   "outputs": [],
   "source": [
    "# Visit the Mars NASA news site: https://redplanetscience.com\n",
    "url = 'https://redplanetscience.com'\n",
    "browser.visit(url)"
   ]
  },
  {
   "cell_type": "markdown",
   "metadata": {},
   "source": [
    "### Step 2: Scrape the Website\n",
    "\n",
    "Create a Beautiful Soup object and use it to extract text elements from the website."
   ]
  },
  {
   "cell_type": "code",
   "execution_count": 4,
   "metadata": {},
   "outputs": [],
   "source": [
    "# Create a Beautiful Soup object\n",
    "\n",
    "# This will open the url in the browser.  We must do it this way because the data we are looking for is not it the HTML if look at it outside of a browser.\n",
    "# The data is loaded with the webpage by a java script.  So if we just did a \"requests.get(url)\" the data we are after would not be there.  We must \n",
    "# load a browser and scrape/pars that.\n",
    "\n",
    "html = browser.html\n",
    "soup = soup(html, 'html.parser')"
   ]
  },
  {
   "cell_type": "markdown",
   "metadata": {},
   "source": [
    "### Step 3: Store the Results\n",
    "\n",
    "Extract the titles and preview text of the news articles that you scraped. Store the scraping results in Python data structures as follows:\n",
    "\n",
    "* Store each title-and-preview pair in a Python dictionary. And, give each dictionary two keys: `title` and `preview`. An example is the following:\n",
    "\n",
    "  ```python\n",
    "  {'title': \"Mars Rover Begins Mission!\", \n",
    "        'preview': \"NASA's Mars Rover begins a multiyear mission to collect data about the little-explored planet.\"}\n",
    "  ```\n",
    "\n",
    "* Store all the dictionaries in a Python list.\n",
    "\n",
    "* Print the list in your notebook."
   ]
  },
  {
   "cell_type": "code",
   "execution_count": 5,
   "metadata": {},
   "outputs": [
    {
     "name": "stdout",
     "output_type": "stream",
     "text": [
      "-------------\n",
      "Screening Soon: 'The Pathfinders' Trains Lens on Mars\n",
      "-------------\n",
      "Media Get a Close-Up of NASA's Mars 2020 Rover\n",
      "-------------\n",
      "NASA's Perseverance Rover Is Midway to Mars \n",
      "-------------\n",
      "NASA's MAVEN Explores Mars to Understand Radio Interference at Earth\n",
      "-------------\n",
      "Robotic Toolkit Added to NASA's Mars 2020 Rover\n",
      "-------------\n",
      "NASA's Perseverance Mars Rover Gets Its Wheels and Air Brakes\n",
      "-------------\n",
      "NASA's Perseverance Rover Mission Getting in Shape for Launch\n",
      "-------------\n",
      "From JPL's Mailroom to Mars and Beyond\n",
      "-------------\n",
      "Mars Is Getting a New Robotic Meteorologist\n",
      "-------------\n",
      "NASA's Curiosity Mars Rover Snaps Its Highest-Resolution Panorama Yet\n",
      "-------------\n",
      "NASA's Mars Helicopter Attached to Mars 2020 Rover \n",
      "-------------\n",
      "MAVEN Maps Electric Currents around Mars that are Fundamental to Atmospheric Loss\n",
      "-------------\n",
      "How NASA's Perseverance Mars Team Adjusted to Work in the Time of Coronavirus \n",
      "-------------\n",
      "Virginia Middle School Student Earns Honor of Naming NASA's Next Mars Rover\n",
      "-------------\n",
      "The Man Who Wanted to Fly on Mars\n"
     ]
    }
   ],
   "source": [
    "# get news story titles\n",
    "\n",
    "store_titles = []\n",
    "\n",
    "# Getting the titles\n",
    "# This is what I am looking for <div class=\"content_title\">\n",
    "nasa_titles = soup.find_all('div', class_='content_title')\n",
    "\n",
    "for title in nasa_titles:\n",
    "         print('-------------')\n",
    "         print(title.text)\n",
    "         store_titles.append(title.text)\n",
    "        "
   ]
  },
  {
   "cell_type": "code",
   "execution_count": 6,
   "metadata": {},
   "outputs": [
    {
     "name": "stdout",
     "output_type": "stream",
     "text": [
      "-------------\n",
      "With the Mars 2020 mission ramping up, the documentary — the first of four about past JPL missions to the Red Planet to be shown at Caltech — tells a gripping backstory.\n",
      "-------------\n",
      "The clean room at NASA's Jet Propulsion Laboratory was open to the media to see NASA's next Mars explorer before it leaves for Florida in preparation for a summertime launch.\n",
      "-------------\n",
      "Sometimes half measures can be a good thing – especially on a journey this long. The agency's latest rover only has about 146 million miles left to reach its destination.\n",
      "-------------\n",
      "NASA’s MAVEN spacecraft has discovered “layers” and “rifts” in the electrically charged part of the upper atmosphere of Mars.\n",
      "-------------\n",
      "The bit carousel, which lies at the heart of the rover's Sample Caching System, is now aboard NASA's newest rover. \n",
      "-------------\n",
      "After the rover was shipped from JPL to Kennedy Space Center, the team is getting closer to finalizing the spacecraft for launch later this summer.\n",
      "-------------\n",
      "Stacking spacecraft components on top of each other is one of the final assembly steps before a mission launches to the Red Planet. \n",
      "-------------\n",
      "Bill Allen has thrived as the mechanical systems design lead for three Mars rover missions, but he got his start as a teenager sorting letters for the NASA center.\n",
      "-------------\n",
      "Sensors on NASA's Perseverance will help prepare for future human exploration by taking weather measurements and studying dust particles.\n",
      "-------------\n",
      "To go along with the stunning 1.8-billion-pixel image, a new video offers a sweeping view of the Red Planet.\n",
      "-------------\n",
      "The helicopter will be first aircraft to perform flight tests on another planet.\n",
      "-------------\n",
      "Five years after NASA’s MAVEN spacecraft entered into orbit around Mars, data from the mission has led to the creation of a map of electric current systems in the Martian atmosphere.\n",
      "-------------\n",
      "Like much of the rest of the world, the Mars rover team is pushing forward with its mission-critical work while putting the health and safety of their colleagues and community first.\n",
      "-------------\n",
      "NASA chose a seventh-grader from Virginia as winner of the agency's \"Name the Rover\" essay contest. Alexander Mather's entry for \"Perseverance\" was voted tops among 28,000 entries. \n",
      "-------------\n",
      "The Mars Helicopter is riding to the Red Planet this summer with NASA's Perseverance rover. The helicopter's chief engineer, Bob Balaram, shares the saga of how it came into being.\n"
     ]
    }
   ],
   "source": [
    "# get news story previes\n",
    "\n",
    "store_previews = []\n",
    "\n",
    "# Getting the article preview.\n",
    "# it is stored with the following tag. <div class=\"article_teaser_body\">\n",
    "previews = soup.find_all('div', class_='article_teaser_body')\n",
    "\n",
    "for preview in previews:\n",
    "        print('-------------')\n",
    "        print(preview.text)\n",
    "        store_previews.append(preview.text)"
   ]
  },
  {
   "cell_type": "code",
   "execution_count": null,
   "metadata": {},
   "outputs": [],
   "source": [
    "# get news story dates\n",
    "\n",
    "store_dates = []\n",
    "\n",
    "# Getting the article dates.\n",
    "# it is stored with the following tag. <div class=\"article_teaser_body\">\n",
    "dates = soup.find_all('div', class_='article_teaser_body')\n",
    "\n",
    "for date in dates:\n",
    "        store_dates.append(date.text)"
   ]
  },
  {
   "cell_type": "code",
   "execution_count": 7,
   "metadata": {},
   "outputs": [],
   "source": [
    "# Create an empty list to store the dictionaries\n",
    "list_of_dic = []"
   ]
  },
  {
   "cell_type": "code",
   "execution_count": 9,
   "metadata": {},
   "outputs": [],
   "source": [
    "# Loop through the text elements\n",
    "# Extract the title and preview text from the elements\n",
    "# Store each title and preview pair in a dictionary\n",
    "# Add the dictionary to the list\n",
    "num_of_stories = len(store_titles)\n",
    "for i in range (num_of_stories):\n",
    "      list_of_dic.append({'title':store_titles[i] , 'preview' : store_previews[i]})"
   ]
  },
  {
   "cell_type": "code",
   "execution_count": 10,
   "metadata": {},
   "outputs": [
    {
     "data": {
      "text/plain": [
       "[{'title': \"Screening Soon: 'The Pathfinders' Trains Lens on Mars\",\n",
       "  'preview': 'With the Mars 2020 mission ramping up, the documentary — the first of four about past JPL missions to the Red Planet to be shown at Caltech — tells a gripping backstory.'},\n",
       " {'title': \"Media Get a Close-Up of NASA's Mars 2020 Rover\",\n",
       "  'preview': \"The clean room at NASA's Jet Propulsion Laboratory was open to the media to see NASA's next Mars explorer before it leaves for Florida in preparation for a summertime launch.\"},\n",
       " {'title': \"NASA's Perseverance Rover Is Midway to Mars \",\n",
       "  'preview': \"Sometimes half measures can be a good thing – especially on a journey this long. The agency's latest rover only has about 146 million miles left to reach its destination.\"},\n",
       " {'title': \"NASA's MAVEN Explores Mars to Understand Radio Interference at Earth\",\n",
       "  'preview': 'NASA’s MAVEN spacecraft has discovered “layers” and “rifts” in the electrically charged part of the upper atmosphere of Mars.'},\n",
       " {'title': \"Robotic Toolkit Added to NASA's Mars 2020 Rover\",\n",
       "  'preview': \"The bit carousel, which lies at the heart of the rover's Sample Caching System, is now aboard NASA's newest rover. \"},\n",
       " {'title': \"NASA's Perseverance Mars Rover Gets Its Wheels and Air Brakes\",\n",
       "  'preview': 'After the rover was shipped from JPL to Kennedy Space Center, the team is getting closer to finalizing the spacecraft for launch later this summer.'},\n",
       " {'title': \"NASA's Perseverance Rover Mission Getting in Shape for Launch\",\n",
       "  'preview': 'Stacking spacecraft components on top of each other is one of the final assembly steps before a mission launches to the Red Planet. '},\n",
       " {'title': \"From JPL's Mailroom to Mars and Beyond\",\n",
       "  'preview': 'Bill Allen has thrived as the mechanical systems design lead for three Mars rover missions, but he got his start as a teenager sorting letters for the NASA center.'},\n",
       " {'title': 'Mars Is Getting a New Robotic Meteorologist',\n",
       "  'preview': \"Sensors on NASA's Perseverance will help prepare for future human exploration by taking weather measurements and studying dust particles.\"},\n",
       " {'title': \"NASA's Curiosity Mars Rover Snaps Its Highest-Resolution Panorama Yet\",\n",
       "  'preview': 'To go along with the stunning 1.8-billion-pixel image, a new video offers a sweeping view of the Red Planet.'},\n",
       " {'title': \"NASA's Mars Helicopter Attached to Mars 2020 Rover \",\n",
       "  'preview': 'The helicopter will be first aircraft to perform flight tests on another planet.'},\n",
       " {'title': 'MAVEN Maps Electric Currents around Mars that are Fundamental to Atmospheric Loss',\n",
       "  'preview': 'Five years after NASA’s MAVEN spacecraft entered into orbit around Mars, data from the mission has led to the creation of a map of electric current systems in the Martian atmosphere.'},\n",
       " {'title': \"How NASA's Perseverance Mars Team Adjusted to Work in the Time of Coronavirus \",\n",
       "  'preview': 'Like much of the rest of the world, the Mars rover team is pushing forward with its mission-critical work while putting the health and safety of their colleagues and community first.'},\n",
       " {'title': \"Virginia Middle School Student Earns Honor of Naming NASA's Next Mars Rover\",\n",
       "  'preview': 'NASA chose a seventh-grader from Virginia as winner of the agency\\'s \"Name the Rover\" essay contest. Alexander Mather\\'s entry for \"Perseverance\" was voted tops among 28,000 entries. '},\n",
       " {'title': 'The Man Who Wanted to Fly on Mars',\n",
       "  'preview': \"The Mars Helicopter is riding to the Red Planet this summer with NASA's Perseverance rover. The helicopter's chief engineer, Bob Balaram, shares the saga of how it came into being.\"}]"
      ]
     },
     "execution_count": 10,
     "metadata": {},
     "output_type": "execute_result"
    }
   ],
   "source": [
    "# Print the list to confirm success\n",
    "list_of_dic"
   ]
  },
  {
   "cell_type": "code",
   "execution_count": 11,
   "metadata": {},
   "outputs": [],
   "source": [
    "browser.quit()"
   ]
  },
  {
   "cell_type": "markdown",
   "metadata": {},
   "source": [
    "### (Optional) Step 4: Export the Data\n",
    "\n",
    "Optionally, store the scraped data in a file or database (to ease sharing the data with others). To do so, export the scraped data to either a JSON file or a MongoDB database."
   ]
  },
  {
   "cell_type": "code",
   "execution_count": 12,
   "metadata": {},
   "outputs": [
    {
     "name": "stdout",
     "output_type": "stream",
     "text": [
      "[\n",
      "    {\n",
      "        \"title\": \"Screening Soon: 'The Pathfinders' Trains Lens on Mars\",\n",
      "        \"preview\": \"With the Mars 2020 mission ramping up, the documentary \\u2014 the first of four about past JPL missions to the Red Planet to be shown at Caltech \\u2014 tells a gripping backstory.\"\n",
      "    },\n",
      "    {\n",
      "        \"title\": \"Media Get a Close-Up of NASA's Mars 2020 Rover\",\n",
      "        \"preview\": \"The clean room at NASA's Jet Propulsion Laboratory was open to the media to see NASA's next Mars explorer before it leaves for Florida in preparation for a summertime launch.\"\n",
      "    },\n",
      "    {\n",
      "        \"title\": \"NASA's Perseverance Rover Is Midway to Mars \",\n",
      "        \"preview\": \"Sometimes half measures can be a good thing \\u2013 especially on a journey this long. The agency's latest rover only has about 146 million miles left to reach its destination.\"\n",
      "    },\n",
      "    {\n",
      "        \"title\": \"NASA's MAVEN Explores Mars to Understand Radio Interference at Earth\",\n",
      "        \"preview\": \"NASA\\u2019s MAVEN spacecraft has discovered \\u201clayers\\u201d and \\u201crifts\\u201d in the electrically charged part of the upper atmosphere of Mars.\"\n",
      "    },\n",
      "    {\n",
      "        \"title\": \"Robotic Toolkit Added to NASA's Mars 2020 Rover\",\n",
      "        \"preview\": \"The bit carousel, which lies at the heart of the rover's Sample Caching System, is now aboard NASA's newest rover. \"\n",
      "    },\n",
      "    {\n",
      "        \"title\": \"NASA's Perseverance Mars Rover Gets Its Wheels and Air Brakes\",\n",
      "        \"preview\": \"After the rover was shipped from JPL to Kennedy Space Center, the team is getting closer to finalizing the spacecraft for launch later this summer.\"\n",
      "    },\n",
      "    {\n",
      "        \"title\": \"NASA's Perseverance Rover Mission Getting in Shape for Launch\",\n",
      "        \"preview\": \"Stacking spacecraft components on top of each other is one of the final assembly steps before a mission launches to the Red Planet. \"\n",
      "    },\n",
      "    {\n",
      "        \"title\": \"From JPL's Mailroom to Mars and Beyond\",\n",
      "        \"preview\": \"Bill Allen has thrived as the mechanical systems design lead for three Mars rover missions, but he got his start as a teenager sorting letters for the NASA center.\"\n",
      "    },\n",
      "    {\n",
      "        \"title\": \"Mars Is Getting a New Robotic Meteorologist\",\n",
      "        \"preview\": \"Sensors on NASA's Perseverance will help prepare for future human exploration by taking weather measurements and studying dust particles.\"\n",
      "    },\n",
      "    {\n",
      "        \"title\": \"NASA's Curiosity Mars Rover Snaps Its Highest-Resolution Panorama Yet\",\n",
      "        \"preview\": \"To go along with the stunning 1.8-billion-pixel image, a new video offers a sweeping view of the Red Planet.\"\n",
      "    },\n",
      "    {\n",
      "        \"title\": \"NASA's Mars Helicopter Attached to Mars 2020 Rover \",\n",
      "        \"preview\": \"The helicopter will be first aircraft to perform flight tests on another planet.\"\n",
      "    },\n",
      "    {\n",
      "        \"title\": \"MAVEN Maps Electric Currents around Mars that are Fundamental to Atmospheric Loss\",\n",
      "        \"preview\": \"Five years after NASA\\u2019s MAVEN spacecraft entered into orbit around Mars, data from the mission has led to the creation of a map of electric current systems in the Martian atmosphere.\"\n",
      "    },\n",
      "    {\n",
      "        \"title\": \"How NASA's Perseverance Mars Team Adjusted to Work in the Time of Coronavirus \",\n",
      "        \"preview\": \"Like much of the rest of the world, the Mars rover team is pushing forward with its mission-critical work while putting the health and safety of their colleagues and community first.\"\n",
      "    },\n",
      "    {\n",
      "        \"title\": \"Virginia Middle School Student Earns Honor of Naming NASA's Next Mars Rover\",\n",
      "        \"preview\": \"NASA chose a seventh-grader from Virginia as winner of the agency's \\\"Name the Rover\\\" essay contest. Alexander Mather's entry for \\\"Perseverance\\\" was voted tops among 28,000 entries. \"\n",
      "    },\n",
      "    {\n",
      "        \"title\": \"The Man Who Wanted to Fly on Mars\",\n",
      "        \"preview\": \"The Mars Helicopter is riding to the Red Planet this summer with NASA's Perseverance rover. The helicopter's chief engineer, Bob Balaram, shares the saga of how it came into being.\"\n",
      "    }\n",
      "]\n"
     ]
    }
   ],
   "source": [
    "# Export data to JSON\n",
    "nasa_news_json = json.dumps(list_of_dic, indent = 4)\n",
    "\n",
    "#set the path for saving the json\n",
    "file = os.path.join('.','Output', 'nasa_news.json')\n",
    "\n",
    "# Writing to sample.json\n",
    "with open(file, \"w\") as outfile:\n",
    "    outfile.write(nasa_news_json)\n",
    "\n",
    "#print the json\n",
    "print(nasa_news_json)"
   ]
  },
  {
   "cell_type": "code",
   "execution_count": null,
   "metadata": {},
   "outputs": [],
   "source": [
    "# Export data to MongoDB\n"
   ]
  }
 ],
 "metadata": {
  "kernelspec": {
   "display_name": "base",
   "language": "python",
   "name": "python3"
  },
  "language_info": {
   "codemirror_mode": {
    "name": "ipython",
    "version": 3
   },
   "file_extension": ".py",
   "mimetype": "text/x-python",
   "name": "python",
   "nbconvert_exporter": "python",
   "pygments_lexer": "ipython3",
   "version": "3.9.13"
  },
  "vscode": {
   "interpreter": {
    "hash": "e7f336f9bec1e74624fa1ea8a759f275624ff514e02e1aa8e3e0a6d78d32a22a"
   }
  }
 },
 "nbformat": 4,
 "nbformat_minor": 4
}
